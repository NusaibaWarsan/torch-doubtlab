{
 "cells": [
  {
   "cell_type": "code",
   "execution_count": null,
   "id": "201f55e6",
   "metadata": {},
   "outputs": [],
   "source": [
    "import torch\n",
    "from torchvision import models\n",
    "import torch.nn as nn\n",
    "import os\n",
    "import albumentations as A\n",
    "from albumentations.pytorch import ToTensorV2\n",
    "\n",
    "import dataset\n",
    "import reasons"
   ]
  },
  {
   "cell_type": "code",
   "execution_count": null,
   "id": "0a6da7dd",
   "metadata": {},
   "outputs": [],
   "source": [
    "model_loaded = models.resnet18(pretrained=True)\n",
    "num_ftrs = model_loaded.fc.in_features\n",
    "model_loaded.fc = nn.Linear(num_ftrs, 3)\n",
    "model_loaded.load_state_dict(torch.load('trained_model.pth', map_location='cpu'))"
   ]
  },
  {
   "cell_type": "code",
   "execution_count": null,
   "id": "153e3b49",
   "metadata": {},
   "outputs": [],
   "source": [
    "model_loaded.eval()"
   ]
  },
  {
   "cell_type": "code",
   "execution_count": null,
   "id": "a4772d3e",
   "metadata": {},
   "outputs": [],
   "source": [
    "test_data_path = 'Dataset/test'\n",
    "classes = os.listdir(test_data_path)\n",
    "test_image_paths = [os.path.join(dp, f) for dp, dn, fn in os.walk(os.path.expanduser(test_data_path)) for f in fn]\n",
    "\n",
    "test_transforms = A.Compose(\n",
    "    [\n",
    "        A.Resize(64,64),\n",
    "        A.Normalize(mean=(0.485, 0.456, 0.406), std=(0.229, 0.224, 0.225)),\n",
    "        ToTensorV2(),\n",
    "    ]\n",
    ")"
   ]
  },
  {
   "cell_type": "code",
   "execution_count": null,
   "id": "75e6792b",
   "metadata": {},
   "outputs": [],
   "source": [
    "test_dataset = dataset.CustomDataset(test_image_paths,classes,test_transforms)"
   ]
  },
  {
   "cell_type": "code",
   "execution_count": null,
   "id": "8c24ddba",
   "metadata": {},
   "outputs": [],
   "source": [
    "doubt = reasons.TorchDoubtLab(model_loaded, test_dataset)"
   ]
  },
  {
   "cell_type": "code",
   "execution_count": null,
   "id": "3a5961da",
   "metadata": {},
   "outputs": [],
   "source": [
    "low_conf_indices = doubt.ProbaReason()\n",
    "doubt.get_flagged_images(low_conf_indices)"
   ]
  },
  {
   "cell_type": "code",
   "execution_count": null,
   "id": "1036569f",
   "metadata": {},
   "outputs": [],
   "source": [
    "wrong_pred_indices = doubt.WrongPrediction()\n",
    "doubt.get_flagged_images(wrong_pred_indices)"
   ]
  },
  {
   "cell_type": "code",
   "execution_count": null,
   "id": "e4427958",
   "metadata": {},
   "outputs": [],
   "source": [
    "short_conf_indices = doubt.ShortConfidence()\n",
    "doubt.get_flagged_images(short_conf_indices)"
   ]
  },
  {
   "cell_type": "code",
   "execution_count": null,
   "id": "5af930f8",
   "metadata": {},
   "outputs": [],
   "source": [
    "long_conf_indices = doubt.LongConfidence()\n",
    "doubt.get_flagged_images(long_conf_indices)"
   ]
  }
 ],
 "metadata": {
  "kernelspec": {
   "display_name": "doubtlab",
   "language": "python",
   "name": "doubtlab"
  },
  "language_info": {
   "codemirror_mode": {
    "name": "ipython",
    "version": 3
   },
   "file_extension": ".py",
   "mimetype": "text/x-python",
   "name": "python",
   "nbconvert_exporter": "python",
   "pygments_lexer": "ipython3",
   "version": "3.10.0"
  }
 },
 "nbformat": 4,
 "nbformat_minor": 5
}
